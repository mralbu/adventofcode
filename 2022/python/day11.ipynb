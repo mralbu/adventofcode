{
 "cells": [
  {
   "cell_type": "markdown",
   "id": "dfba4b05",
   "metadata": {},
   "source": [
    "# Day 11"
   ]
  },
  {
   "cell_type": "markdown",
   "id": "1829eb32",
   "metadata": {},
   "source": [
    "https://adventofcode.com/2022/day/11"
   ]
  },
  {
   "cell_type": "code",
   "execution_count": null,
   "id": "9fac2d04",
   "metadata": {},
   "outputs": [],
   "source": [
    "import aocd\n",
    "\n",
    "day, year = 11, 2022"
   ]
  },
  {
   "cell_type": "markdown",
   "id": "b983fb4a",
   "metadata": {},
   "source": [
    "## Input"
   ]
  },
  {
   "cell_type": "code",
   "execution_count": null,
   "id": "40fef04b",
   "metadata": {},
   "outputs": [],
   "source": [
    "check_example = True\n",
    "example = \"\"\"Monkey 0:\n",
    "  Starting items: 79, 98\n",
    "  Operation: new = old * 19\n",
    "  Test: divisible by 23\n",
    "    If true: throw to monkey 2\n",
    "    If false: throw to monkey 3\n",
    "\n",
    "Monkey 1:\n",
    "  Starting items: 54, 65, 75, 74\n",
    "  Operation: new = old + 6\n",
    "  Test: divisible by 19\n",
    "    If true: throw to monkey 2\n",
    "    If false: throw to monkey 0\n",
    "\n",
    "Monkey 2:\n",
    "  Starting items: 79, 60, 97\n",
    "  Operation: new = old * old\n",
    "  Test: divisible by 13\n",
    "    If true: throw to monkey 1\n",
    "    If false: throw to monkey 3\n",
    "\n",
    "Monkey 3:\n",
    "  Starting items: 74\n",
    "  Operation: new = old + 3\n",
    "  Test: divisible by 17\n",
    "    If true: throw to monkey 0\n",
    "    If false: throw to monkey 1\"\"\"\n",
    "\n",
    "data = example if check_example else aocd.get_data(day=day, year=year)"
   ]
  },
  {
   "cell_type": "code",
   "execution_count": null,
   "id": "cdab7884",
   "metadata": {},
   "outputs": [],
   "source": [
    "monkeys = [monkey for monkey in data.split('\\n\\n')]"
   ]
  },
  {
   "cell_type": "code",
   "execution_count": null,
   "id": "c5d5daa9",
   "metadata": {},
   "outputs": [],
   "source": [
    "import re\n",
    "from dataclasses import dataclass\n",
    "from typing import List\n",
    "\n",
    "re_monkey = re.compile(\"\"\"Monkey (?P<monkey_n>\\d+):\\n\\\n",
    "  Starting items: (?P<items>[\\d\\s,]+)\\n\\\n",
    "  Operation: new = (?P<op_left>\\w+) (?P<op>.) (?P<op_right>\\w+)\\n\\\n",
    "  Test: divisible by (?P<n_divisible>\\d+)\\n\\\n",
    "    If true: throw to monkey (?P<throw_true>\\d+)\\n\\\n",
    "    If false: throw to monkey (?P<throw_false>\\d+)\"\"\")"
   ]
  },
  {
   "cell_type": "code",
   "execution_count": null,
   "id": "7fabd6e0",
   "metadata": {},
   "outputs": [],
   "source": [
    "@dataclass\n",
    "class Monkey:\n",
    "    n: int\n",
    "    items: List[int]\n",
    "    op_left: str\n",
    "    op: str\n",
    "    op_right: str\n",
    "    n_divisible: int\n",
    "    throw_true: int\n",
    "    throw_false: int\n",
    "        \n",
    "    @classmethod\n",
    "    def from_text(cls, text: str):\n",
    "        return cls(*re_monkey.match(monkeys[0]).groups())"
   ]
  },
  {
   "cell_type": "code",
   "execution_count": null,
   "id": "d378b2ab",
   "metadata": {},
   "outputs": [
    {
     "data": {
      "text/plain": [
       "Monkey(n='0', items='79, 98', op_left='old', op='*', op_right='19', n_divisible='23', throw_true='2', throw_false='3')"
      ]
     },
     "execution_count": null,
     "metadata": {},
     "output_type": "execute_result"
    }
   ],
   "source": [
    "Monkey.from_text(monkeys[0])"
   ]
  },
  {
   "cell_type": "markdown",
   "id": "951bfc0d",
   "metadata": {},
   "source": [
    "## Part 1\n",
    "\n",
    "Figure out which monkeys to chase by counting how many items they inspect over 20 rounds. What is the level of monkey business after 20 rounds of stuff-slinging simian shenanigans?"
   ]
  },
  {
   "cell_type": "code",
   "execution_count": null,
   "id": "3eeed7ce",
   "metadata": {},
   "outputs": [
    {
     "name": "stdout",
     "output_type": "stream",
     "text": [
      "Part 1: None\n"
     ]
    }
   ],
   "source": [
    "part1 = None\n",
    "\n",
    "print(\"Part 1:\", part1)"
   ]
  },
  {
   "cell_type": "code",
   "execution_count": null,
   "id": "6fab2f98",
   "metadata": {},
   "outputs": [],
   "source": [
    "if not check_example:\n",
    "    aocd.submit(part1, part=1, day=day, year=year)"
   ]
  },
  {
   "cell_type": "markdown",
   "id": "f8caefc6",
   "metadata": {},
   "source": [
    "## Part 2 \n",
    "\n",
    "Render the image given by your program. What eight capital letters appear on your CRT?"
   ]
  },
  {
   "cell_type": "code",
   "execution_count": null,
   "id": "f292f271",
   "metadata": {},
   "outputs": [
    {
     "name": "stdout",
     "output_type": "stream",
     "text": [
      "Part 2: None\n"
     ]
    }
   ],
   "source": [
    "part2 = None\n",
    "\n",
    "print(\"Part 2:\", part2)"
   ]
  },
  {
   "cell_type": "code",
   "execution_count": null,
   "id": "ab7578aa",
   "metadata": {},
   "outputs": [],
   "source": [
    "if not check_example:\n",
    "    aocd.submit(part2, part=2, day=day, year=year)"
   ]
  }
 ],
 "metadata": {
  "kernelspec": {
   "display_name": "Python 3",
   "language": "python",
   "name": "python3"
  }
 },
 "nbformat": 4,
 "nbformat_minor": 5
}
