{
 "cells": [
  {
   "cell_type": "markdown",
   "id": "48ebb59c",
   "metadata": {},
   "source": [
    "# Day 07"
   ]
  },
  {
   "cell_type": "markdown",
   "id": "f971ed1a",
   "metadata": {},
   "source": [
    "https://adventofcode.com/2022/day/7"
   ]
  },
  {
   "cell_type": "code",
   "execution_count": null,
   "id": "5b7dd2f5",
   "metadata": {},
   "outputs": [],
   "source": [
    "import aocd\n",
    "\n",
    "day, year = 7, 2022"
   ]
  },
  {
   "cell_type": "markdown",
   "id": "5ac94c98",
   "metadata": {},
   "source": [
    "## Input"
   ]
  },
  {
   "cell_type": "code",
   "execution_count": null,
   "id": "01d4c45c",
   "metadata": {},
   "outputs": [],
   "source": [
    "check_example = True\n",
    "example = \"\"\"$ cd /\n",
    "$ ls\n",
    "dir a\n",
    "14848514 b.txt\n",
    "8504156 c.dat\n",
    "dir d\n",
    "$ cd a\n",
    "$ ls\n",
    "dir e\n",
    "29116 f\n",
    "2557 g\n",
    "62596 h.lst\n",
    "$ cd e\n",
    "$ ls\n",
    "584 i\n",
    "$ cd ..\n",
    "$ cd ..\n",
    "$ cd d\n",
    "$ ls\n",
    "4060174 j\n",
    "8033020 d.log\n",
    "5626152 d.ext\n",
    "7214296 k\"\"\"\n",
    "\n",
    "data = example if check_example else aocd.get_data(day=day, year=year)"
   ]
  },
  {
   "cell_type": "code",
   "execution_count": null,
   "id": "7849baa2",
   "metadata": {},
   "outputs": [],
   "source": [
    "from __future__ import annotations\n",
    "\n",
    "from dataclasses import dataclass, field\n",
    "from typing import Union, List, Dict"
   ]
  },
  {
   "cell_type": "code",
   "execution_count": null,
   "id": "483cf6ef",
   "metadata": {},
   "outputs": [],
   "source": [
    "@dataclass\n",
    "class File:\n",
    "    name: str\n",
    "    size: int\n",
    "    path: str\n",
    "        \n",
    "    def __repr__(self):\n",
    "        return f'{self.size} {self.name}\\n'\n",
    "\n",
    "@dataclass\n",
    "class Directory:\n",
    "    path: str\n",
    "    parent: Union[Directory, None]\n",
    "    files: Dict[str, File] = field(default_factory=dict)\n",
    "    dirs: Dict[str, Directory] = field(default_factory=dict)\n",
    "\n",
    "    def add_dir(self, path: str):\n",
    "        if path not in self.dirs.keys():\n",
    "            self.dirs[path] = Directory(self.path + path + '/', parent=self)\n",
    "            \n",
    "    def add_file(self, path: str, size: Union[str, int]):\n",
    "        self.files[path] = File(path, int(size), self.path + path)\n",
    "    \n",
    "    @property\n",
    "    def depth(self):\n",
    "        return self.path.count('/') \n",
    "\n",
    "    @property\n",
    "    def size(self):\n",
    "        file_sizes = sum([f.size for f in self.files.values()])\n",
    "        dir_sizes = sum([d.size for d in self.dirs.values()])\n",
    "        return file_sizes + dir_sizes\n",
    "    \n",
    "    def walk_files(self):\n",
    "        for f in self.files.values():\n",
    "            yield f\n",
    "        for d in self.dirs.values():\n",
    "            yield from d.walk_files()\n",
    "\n",
    "    def walk_dirs(self):\n",
    "        for d in self.dirs.values():\n",
    "            yield d\n",
    "            yield from d.walk_dirs()\n",
    "            \n",
    "    def __repr__(self):\n",
    "        str_repr = f'{self.path}\\n'\n",
    "        for d in self.dirs.values():\n",
    "            str_repr += (self.depth * '  ') + repr(d)\n",
    "        for f in self.files.values():\n",
    "            str_repr += (self.depth * '  ') + repr(f)\n",
    "        return str_repr"
   ]
  },
  {
   "cell_type": "code",
   "execution_count": null,
   "id": "98540f79",
   "metadata": {},
   "outputs": [],
   "source": [
    "root = Directory('/', parent=None)"
   ]
  },
  {
   "cell_type": "code",
   "execution_count": null,
   "id": "ea9d905d",
   "metadata": {},
   "outputs": [],
   "source": [
    "current_dir = root\n",
    "for l in data.splitlines():\n",
    "    if '$ cd' in l:\n",
    "        _, cmd, path = l.partition('$ cd ')\n",
    "        if path.strip() == '/': \n",
    "            current_dir = root\n",
    "        elif path == '..':\n",
    "            current_dir = current_dir.parent\n",
    "        else:\n",
    "            current_dir.add_dir(path)\n",
    "            current_dir = current_dir.dirs[path]\n",
    "        next\n",
    "    elif '$ ls' in l:\n",
    "        next\n",
    "    elif 'dir ' in l:\n",
    "        _, path = l.split(' ')\n",
    "        current_dir.add_dir(path)\n",
    "        next\n",
    "    else:\n",
    "        size, path = l.split(' ')\n",
    "        current_dir.add_file(path, size)"
   ]
  },
  {
   "cell_type": "code",
   "execution_count": null,
   "id": "f01f9e89",
   "metadata": {},
   "outputs": [
    {
     "data": {
      "text/plain": [
       "/\n",
       "  /a/\n",
       "    /a/e/\n",
       "      584 i\n",
       "    29116 f\n",
       "    2557 g\n",
       "    62596 h.lst\n",
       "  /d/\n",
       "    4060174 j\n",
       "    8033020 d.log\n",
       "    5626152 d.ext\n",
       "    7214296 k\n",
       "  14848514 b.txt\n",
       "  8504156 c.dat"
      ]
     },
     "execution_count": null,
     "metadata": {},
     "output_type": "execute_result"
    }
   ],
   "source": [
    "root"
   ]
  },
  {
   "cell_type": "markdown",
   "id": "7a351d05",
   "metadata": {},
   "source": [
    "## Part 1\n",
    "\n",
    "Find all of the directories with a total size of at most 100000. What is the sum of the total sizes of those directories?"
   ]
  },
  {
   "cell_type": "code",
   "execution_count": null,
   "id": "62708f81",
   "metadata": {},
   "outputs": [
    {
     "name": "stdout",
     "output_type": "stream",
     "text": [
      "Part 1: 95437\n"
     ]
    }
   ],
   "source": [
    "part1 = sum([d.size for d in root.walk_dirs() if d.size <= 100000])\n",
    "\n",
    "print(\"Part 1:\", part1)"
   ]
  },
  {
   "cell_type": "code",
   "execution_count": null,
   "id": "c56a4d53",
   "metadata": {},
   "outputs": [],
   "source": [
    "if not check_example:\n",
    "    aocd.submit(part1, part=1, day=day, year=year)"
   ]
  },
  {
   "cell_type": "markdown",
   "id": "2465fb8b",
   "metadata": {},
   "source": [
    "## Part 2 \n",
    "\n",
    "Find the smallest directory that, if deleted, would free up enough space on the filesystem to run the update. What is the total size of that directory?"
   ]
  },
  {
   "cell_type": "code",
   "execution_count": null,
   "id": "fbb32844",
   "metadata": {},
   "outputs": [],
   "source": [
    "min_space2delete = 30000000 - (70000000 - root.size)"
   ]
  },
  {
   "cell_type": "code",
   "execution_count": null,
   "id": "4e234d0d",
   "metadata": {},
   "outputs": [
    {
     "name": "stdout",
     "output_type": "stream",
     "text": [
      "Part 2: 24933642\n"
     ]
    }
   ],
   "source": [
    "part2 = min([d.size for d in root.walk_dirs() if d.size >= min_space2delete])\n",
    "\n",
    "print(\"Part 2:\", part2)"
   ]
  },
  {
   "cell_type": "code",
   "execution_count": null,
   "id": "5eeb6faa",
   "metadata": {},
   "outputs": [],
   "source": [
    "if not check_example:\n",
    "    aocd.submit(part2, part=2, day=day, year=year)"
   ]
  }
 ],
 "metadata": {
  "kernelspec": {
   "display_name": "Python 3",
   "language": "python",
   "name": "python3"
  }
 },
 "nbformat": 4,
 "nbformat_minor": 5
}
