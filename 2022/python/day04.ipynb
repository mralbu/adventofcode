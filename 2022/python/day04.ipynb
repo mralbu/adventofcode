{
 "cells": [
  {
   "cell_type": "markdown",
   "id": "0d0dfebd",
   "metadata": {},
   "source": [
    "# Day 04"
   ]
  },
  {
   "cell_type": "markdown",
   "id": "a56a90f1",
   "metadata": {},
   "source": [
    "https://adventofcode.com/2022/day/4"
   ]
  },
  {
   "cell_type": "code",
   "execution_count": null,
   "id": "6cb0602a",
   "metadata": {},
   "outputs": [],
   "source": [
    "import aocd\n",
    "\n",
    "day, year = 4, 2022"
   ]
  },
  {
   "cell_type": "markdown",
   "id": "43bd782f",
   "metadata": {},
   "source": [
    "## Input"
   ]
  },
  {
   "cell_type": "code",
   "execution_count": null,
   "id": "0dfb909f",
   "metadata": {},
   "outputs": [],
   "source": [
    "check_example = False\n",
    "example = \"\"\"2-4,6-8\n",
    "2-3,4-5\n",
    "5-7,7-9\n",
    "2-8,3-7\n",
    "6-6,4-6\n",
    "2-6,4-8\"\"\""
   ]
  },
  {
   "cell_type": "code",
   "execution_count": null,
   "id": "53f55d74",
   "metadata": {},
   "outputs": [],
   "source": [
    "data =  example if check_example else aocd.get_data(day=day, year=year)"
   ]
  },
  {
   "cell_type": "code",
   "execution_count": null,
   "id": "3b4b7980",
   "metadata": {},
   "outputs": [],
   "source": [
    "from dataclasses import dataclass\n",
    "from typing_extensions import Self\n",
    "\n",
    "@dataclass\n",
    "class Interval:\n",
    "    start: int\n",
    "    end: int\n",
    "    \n",
    "    def __repr__(self):\n",
    "        return f'{self.start}-{self.end}'\n",
    "    \n",
    "    def __contains__(self, other: Self) -> bool:\n",
    "        return (self.start <= other.start and other.end <= self.end)\n",
    "    \n",
    "    def __and__(self, other: Self) -> bool:\n",
    "        return ((self.start >= other.start and self.start <= other.end) or\n",
    "                (self.end >= other.start and self.start <= other.end))\n",
    "    \n",
    "    @classmethod\n",
    "    def from_string(cls: Self, s: str) -> Self:\n",
    "        start, end = s.split('-')\n",
    "        return cls(int(start), int(end))"
   ]
  },
  {
   "cell_type": "code",
   "execution_count": null,
   "id": "2727253a",
   "metadata": {},
   "outputs": [],
   "source": [
    "intervals = [list(map(Interval.from_string, p.split(','))) for p in data.splitlines()]"
   ]
  },
  {
   "cell_type": "markdown",
   "id": "acb2e316",
   "metadata": {},
   "source": [
    "## Part 1\n",
    "\n",
    "In how many assignment pairs does one range fully contain the other?"
   ]
  },
  {
   "cell_type": "code",
   "execution_count": null,
   "id": "8413ba0d",
   "metadata": {},
   "outputs": [
    {
     "name": "stdout",
     "output_type": "stream",
     "text": [
      "Part 1: 444\n"
     ]
    }
   ],
   "source": [
    "part1 = sum(((l in r) or (r in l) for l, r in intervals))\n",
    "\n",
    "print(\"Part 1:\", part1)"
   ]
  },
  {
   "cell_type": "code",
   "execution_count": null,
   "id": "1c3c1331",
   "metadata": {},
   "outputs": [
    {
     "name": "stdout",
     "output_type": "stream",
     "text": [
      "Part a already solved with same answer: 444\n"
     ]
    }
   ],
   "source": [
    "aocd.submit(part1, part=1, day=day, year=year)"
   ]
  },
  {
   "cell_type": "markdown",
   "id": "b1f8ac8f",
   "metadata": {},
   "source": [
    "## Part 2 \n",
    "\n",
    "In how many assignment pairs do the ranges overlap?"
   ]
  },
  {
   "cell_type": "code",
   "execution_count": null,
   "id": "7f6426d2",
   "metadata": {},
   "outputs": [
    {
     "name": "stdout",
     "output_type": "stream",
     "text": [
      "Part 2: 801\n"
     ]
    }
   ],
   "source": [
    "part2 = sum(l & r for l, r in intervals)\n",
    "\n",
    "print(\"Part 2:\", part2)"
   ]
  },
  {
   "cell_type": "code",
   "execution_count": null,
   "id": "e0e522a5",
   "metadata": {},
   "outputs": [
    {
     "name": "stdout",
     "output_type": "stream",
     "text": [
      "Part b already solved with same answer: 801\n"
     ]
    }
   ],
   "source": [
    "aocd.submit(part2, part=2, day=day, year=year)"
   ]
  }
 ],
 "metadata": {
  "kernelspec": {
   "display_name": "Python 3",
   "language": "python",
   "name": "python3"
  }
 },
 "nbformat": 4,
 "nbformat_minor": 5
}
