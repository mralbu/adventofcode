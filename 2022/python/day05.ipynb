{
 "cells": [
  {
   "cell_type": "markdown",
   "id": "48b58fc0",
   "metadata": {},
   "source": [
    "# Day 05"
   ]
  },
  {
   "cell_type": "markdown",
   "id": "887637ae",
   "metadata": {},
   "source": [
    "https://adventofcode.com/2022/day/5"
   ]
  },
  {
   "cell_type": "code",
   "execution_count": null,
   "id": "f09efde6",
   "metadata": {},
   "outputs": [],
   "source": [
    "import aocd\n",
    "\n",
    "day, year = 5, 2022"
   ]
  },
  {
   "cell_type": "markdown",
   "id": "60e434e1",
   "metadata": {},
   "source": [
    "## Input"
   ]
  },
  {
   "cell_type": "code",
   "execution_count": null,
   "id": "96def235",
   "metadata": {},
   "outputs": [],
   "source": [
    "check_example = True\n",
    "example = \"\"\"    [D]    \n",
    "[N] [C]    \n",
    "[Z] [M] [P]\n",
    " 1   2   3 \n",
    "\n",
    "move 1 from 2 to 1\n",
    "move 3 from 1 to 3\n",
    "move 2 from 2 to 1\n",
    "move 1 from 1 to 2\"\"\"\n",
    "\n",
    "data = example if check_example else aocd.get_data(day=day, year=year)"
   ]
  },
  {
   "cell_type": "code",
   "execution_count": null,
   "id": "58d244f5",
   "metadata": {},
   "outputs": [],
   "source": [
    "crates, moves = data.split('\\n\\n')"
   ]
  },
  {
   "cell_type": "code",
   "execution_count": null,
   "id": "eeeb49d4",
   "metadata": {},
   "outputs": [],
   "source": [
    "import re\n",
    "from collections import defaultdict\n",
    "\n",
    "class CrateStack(defaultdict):\n",
    "    def __init__(self, *args, **kwargs):\n",
    "        super().__init__(list)\n",
    "        self.parse_move = re.compile(r'move (?P<n>\\d+) from (?P<from>\\d+) to (?P<to>\\d+)')\n",
    "    \n",
    "    @classmethod\n",
    "    def from_text(cls, data: str):\n",
    "        idx = [(res.start(), res.end()) for res in re.finditer(r'(\\d+)', data.splitlines()[-1])]\n",
    "        crate_rows = [[l[i[0]:i[1]] for i in idx] for l in data.splitlines()[:-1]]\n",
    "\n",
    "        stack = cls()\n",
    "        for row in crate_rows[::-1]:\n",
    "            for i, crate in enumerate(row):\n",
    "                if crate.strip():\n",
    "                    stack[str(i+1)].append(crate)\n",
    "        return stack\n",
    "    \n",
    "    def move(self, cmd: str, model='original'):\n",
    "        \n",
    "        cmds = cmd.splitlines() if '\\n' in cmd else [cmd]\n",
    "        \n",
    "        for cmd in cmds:\n",
    "            n, s_from, s_to = self.parse_move.match(cmd).groups()\n",
    "            for i in range(int(n)):\n",
    "                idx = len(self[s_to]) - (i if model == '9001' else 0) \n",
    "                self[s_to].insert(idx, self[s_from].pop())\n",
    "        return self\n",
    "\n",
    "    def top(self):\n",
    "        return ''.join([v[-1] for v in self.values()])\n",
    "    \n",
    "    def __repr__(self):\n",
    "        if not self.items():\n",
    "            return super().__repr__()\n",
    "        \n",
    "        repr_str = []\n",
    "        repr_str.append(' ' + '   '.join(stack.keys()) + ' ')\n",
    "        for i in range(max(map(len, stack.values()))):\n",
    "            repr_str.append(' '.join([f'[{v[i]}]' if i < len(v) else '   ' for k, v in stack.items()]))\n",
    "            \n",
    "        return '\\n'.join(repr_str[::-1])"
   ]
  },
  {
   "cell_type": "markdown",
   "id": "f5800188",
   "metadata": {},
   "source": [
    "## Part 1\n",
    "\n",
    "After the rearrangement procedure completes, what crate ends up on top of each stack?"
   ]
  },
  {
   "cell_type": "code",
   "execution_count": null,
   "id": "0279c9d3",
   "metadata": {},
   "outputs": [
    {
     "data": {
      "text/plain": [
       "    [D]    \n",
       "[N] [C]    \n",
       "[Z] [M] [P]\n",
       " 1   2   3 "
      ]
     },
     "execution_count": null,
     "metadata": {},
     "output_type": "execute_result"
    }
   ],
   "source": [
    "stack = CrateStack.from_text(crates)\n",
    "stack"
   ]
  },
  {
   "cell_type": "code",
   "execution_count": null,
   "id": "90bb9dce",
   "metadata": {},
   "outputs": [
    {
     "data": {
      "text/plain": [
       "        [Z]\n",
       "        [N]\n",
       "        [D]\n",
       "[C] [M] [P]\n",
       " 1   2   3 "
      ]
     },
     "execution_count": null,
     "metadata": {},
     "output_type": "execute_result"
    }
   ],
   "source": [
    "stack.move(moves)"
   ]
  },
  {
   "cell_type": "code",
   "execution_count": null,
   "id": "90930d26",
   "metadata": {},
   "outputs": [
    {
     "name": "stdout",
     "output_type": "stream",
     "text": [
      "Part 1: CMZ\n"
     ]
    }
   ],
   "source": [
    "part1 = stack.top()\n",
    "\n",
    "print(\"Part 1:\", part1)"
   ]
  },
  {
   "cell_type": "code",
   "execution_count": null,
   "id": "c7bfafb4",
   "metadata": {},
   "outputs": [],
   "source": [
    "if not check_example:\n",
    "    aocd.submit(part1, part=1, day=day, year=year)"
   ]
  },
  {
   "cell_type": "markdown",
   "id": "1fe15d65",
   "metadata": {},
   "source": [
    "## Part 2 \n",
    "\n",
    "In how many assignment pairs do the ranges overlap?"
   ]
  },
  {
   "cell_type": "code",
   "execution_count": null,
   "id": "ce3618eb",
   "metadata": {},
   "outputs": [
    {
     "data": {
      "text/plain": [
       "    [D]    \n",
       "[N] [C]    \n",
       "[Z] [M] [P]\n",
       " 1   2   3 "
      ]
     },
     "execution_count": null,
     "metadata": {},
     "output_type": "execute_result"
    }
   ],
   "source": [
    "stack = CrateStack.from_text(crates)\n",
    "stack"
   ]
  },
  {
   "cell_type": "code",
   "execution_count": null,
   "id": "dcf34759",
   "metadata": {},
   "outputs": [
    {
     "data": {
      "text/plain": [
       "        [D]\n",
       "        [N]\n",
       "        [Z]\n",
       "[M] [C] [P]\n",
       " 1   2   3 "
      ]
     },
     "execution_count": null,
     "metadata": {},
     "output_type": "execute_result"
    }
   ],
   "source": [
    "stack.move(moves, model='9001')"
   ]
  },
  {
   "cell_type": "code",
   "execution_count": null,
   "id": "04fedc1e",
   "metadata": {},
   "outputs": [
    {
     "name": "stdout",
     "output_type": "stream",
     "text": [
      "Part 2: MCD\n"
     ]
    }
   ],
   "source": [
    "part2 = stack.top()\n",
    "\n",
    "print(\"Part 2:\", part2)"
   ]
  },
  {
   "cell_type": "code",
   "execution_count": null,
   "id": "49a8ee06",
   "metadata": {},
   "outputs": [],
   "source": [
    "if not check_example:\n",
    "    aocd.submit(part2, part=2, day=day, year=year)"
   ]
  },
  {
   "cell_type": "code",
   "execution_count": null,
   "id": "f900e5d9",
   "metadata": {},
   "outputs": [],
   "source": []
  }
 ],
 "metadata": {
  "kernelspec": {
   "display_name": "Python 3",
   "language": "python",
   "name": "python3"
  }
 },
 "nbformat": 4,
 "nbformat_minor": 5
}
