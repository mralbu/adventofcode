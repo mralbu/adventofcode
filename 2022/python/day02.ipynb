{
 "cells": [
  {
   "cell_type": "markdown",
   "id": "c107da5a",
   "metadata": {},
   "source": [
    "# Day 02"
   ]
  },
  {
   "cell_type": "markdown",
   "id": "a51d12af",
   "metadata": {},
   "source": [
    "https://adventofcode.com/2022/day/2"
   ]
  },
  {
   "cell_type": "code",
   "execution_count": null,
   "id": "d0faf282",
   "metadata": {},
   "outputs": [],
   "source": [
    "import aocd\n",
    "\n",
    "day, year = 2, 2022"
   ]
  },
  {
   "cell_type": "markdown",
   "id": "3c86e82e",
   "metadata": {},
   "source": [
    "## Input"
   ]
  },
  {
   "cell_type": "code",
   "execution_count": null,
   "id": "99b88e7c",
   "metadata": {},
   "outputs": [],
   "source": [
    "games = [\n",
    "    tuple(l.split()) for l in aocd.get_data(day=day, year=year).splitlines()\n",
    "]"
   ]
  },
  {
   "cell_type": "markdown",
   "id": "57085c9d",
   "metadata": {},
   "source": [
    "## Part 1\n",
    "\n",
    "In the first round, your opponent will choose Rock (A), and you should choose Paper (Y). This ends in a win for you with a score of 8 (2 because you chose Paper + 6 because you won).\n",
    "In the second round, your opponent will choose Paper (B), and you should choose Rock (X). This ends in a loss for you with a score of 1 (1 + 0).\n",
    "The third round is a draw with both players choosing Scissors, giving you a score of 3 + 3 = 6.\n",
    "In this example, if you were to follow the strategy guide, you would get a total score of 15 (8 + 1 + 6).\n",
    "\n",
    "What would your total score be if everything goes exactly according to your strategy guide?"
   ]
  },
  {
   "cell_type": "code",
   "execution_count": null,
   "id": "dbab9f76",
   "metadata": {},
   "outputs": [],
   "source": [
    "points_item = {'X': 1, 'Y': 2, 'Z': 3}\n",
    "\n",
    "map_win  = {'X': 'C', 'Y': 'A', 'Z': 'B'}\n",
    "map_draw = {'X': 'A', 'Y': 'B', 'Z': 'C'}\n",
    "map_lose = {'X': 'B', 'Y': 'C', 'Z': 'A'}\n",
    "\n",
    "def score(a, x): \n",
    "    if map_win[x] == a:\n",
    "        return points_item[x] + 6\n",
    "    elif map_lose[x] == a:\n",
    "        return points_item[x] + 0\n",
    "    elif map_draw[x] == a:\n",
    "        return points_item[x] + 3"
   ]
  },
  {
   "cell_type": "code",
   "execution_count": null,
   "id": "0728bb4c",
   "metadata": {},
   "outputs": [
    {
     "name": "stdout",
     "output_type": "stream",
     "text": [
      "Part 1: 12535\n"
     ]
    }
   ],
   "source": [
    "part1 = sum([score(a, x) for a, x in games])\n",
    "\n",
    "print(\"Part 1:\", part1)"
   ]
  },
  {
   "cell_type": "code",
   "execution_count": null,
   "id": "91307e11",
   "metadata": {},
   "outputs": [
    {
     "name": "stdout",
     "output_type": "stream",
     "text": [
      "Part a already solved with same answer: 12535\n"
     ]
    }
   ],
   "source": [
    "aocd.submit(part1, part=1, day=day, year=year)"
   ]
  },
  {
   "cell_type": "markdown",
   "id": "4be6eb0b",
   "metadata": {},
   "source": [
    "## Part 2 \n",
    "\n",
    "The total score is still calculated in the same way, but now you need to figure out what shape to choose so the round ends as indicated. The example above now goes like this:\n",
    "\n",
    "In the first round, your opponent will choose Rock (A), and you need the round to end in a draw (Y), so you also choose Rock. This gives you a score of 1 + 3 = 4.\n",
    "In the second round, your opponent will choose Paper (B), and you choose Rock so you lose (X) with a score of 1 + 0 = 1.\n",
    "In the third round, you will defeat your opponent's Scissors with Rock for a score of 1 + 6 = 7.\n",
    "Now that you're correctly decrypting the ultra top secret strategy guide, you would get a total score of 12.\n",
    "\n",
    "Following the Elf's instructions for the second column, what would your total score be if everything goes exactly according to your strategy guide?"
   ]
  },
  {
   "cell_type": "code",
   "execution_count": null,
   "id": "410d02e2",
   "metadata": {},
   "outputs": [],
   "source": [
    "rev_dict = lambda x: {v: k for k, v in x.items()}"
   ]
  },
  {
   "cell_type": "code",
   "execution_count": null,
   "id": "994ed8ad",
   "metadata": {},
   "outputs": [],
   "source": [
    "map_play = {'X': {i: rev_dict(map_lose)[i] for i in 'ABC'}, \n",
    "            'Y': {i: rev_dict(map_draw)[i] for i in 'ABC'}, \n",
    "            'Z': {i: rev_dict(map_win) [i] for i in 'ABC'}}"
   ]
  },
  {
   "cell_type": "code",
   "execution_count": null,
   "id": "05c603e6",
   "metadata": {},
   "outputs": [
    {
     "name": "stdout",
     "output_type": "stream",
     "text": [
      "Part 2: 15457\n"
     ]
    }
   ],
   "source": [
    "part2= sum([score(a, map_play[x][a]) for a, x in games])\n",
    "\n",
    "print(\"Part 2:\", part2)"
   ]
  },
  {
   "cell_type": "code",
   "execution_count": null,
   "id": "68bf1a91",
   "metadata": {},
   "outputs": [
    {
     "name": "stdout",
     "output_type": "stream",
     "text": [
      "Part b already solved with same answer: 15457\n"
     ]
    }
   ],
   "source": [
    "aocd.submit(part2, part=2, day=day, year=year)"
   ]
  }
 ],
 "metadata": {
  "kernelspec": {
   "display_name": "Python 3",
   "language": "python",
   "name": "python3"
  }
 },
 "nbformat": 4,
 "nbformat_minor": 5
}
