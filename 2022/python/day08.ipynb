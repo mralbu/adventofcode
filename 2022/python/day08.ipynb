{
 "cells": [
  {
   "cell_type": "markdown",
   "id": "26824fcf",
   "metadata": {},
   "source": [
    "# Day 08"
   ]
  },
  {
   "cell_type": "markdown",
   "id": "12180bc9",
   "metadata": {},
   "source": [
    "https://adventofcode.com/2022/day/8"
   ]
  },
  {
   "cell_type": "code",
   "execution_count": null,
   "id": "db164398",
   "metadata": {},
   "outputs": [],
   "source": [
    "import aocd\n",
    "\n",
    "day, year = 8, 2022"
   ]
  },
  {
   "cell_type": "markdown",
   "id": "1350b4ae",
   "metadata": {},
   "source": [
    "## Input"
   ]
  },
  {
   "cell_type": "code",
   "execution_count": null,
   "id": "b47db4fc",
   "metadata": {},
   "outputs": [],
   "source": [
    "check_example = True\n",
    "example = \"\"\"30373\n",
    "25512\n",
    "65332\n",
    "33549\n",
    "35390\"\"\"\n",
    "\n",
    "data = example if check_example else aocd.get_data(day=day, year=year)"
   ]
  },
  {
   "cell_type": "code",
   "execution_count": null,
   "id": "21db4070",
   "metadata": {},
   "outputs": [
    {
     "data": {
      "text/plain": [
       "array([[3, 0, 3, 7, 3],\n",
       "       [2, 5, 5, 1, 2],\n",
       "       [6, 5, 3, 3, 2],\n",
       "       [3, 3, 5, 4, 9],\n",
       "       [3, 5, 3, 9, 0]])"
      ]
     },
     "execution_count": null,
     "metadata": {},
     "output_type": "execute_result"
    }
   ],
   "source": [
    "import numpy as np\n",
    "\n",
    "m = np.genfromtxt(data.splitlines(), delimiter=1, dtype=int)\n",
    "m"
   ]
  },
  {
   "cell_type": "markdown",
   "id": "fd9771d1",
   "metadata": {},
   "source": [
    "## Part 1\n",
    "\n",
    "Consider your map; how many trees are visible from outside the grid?"
   ]
  },
  {
   "cell_type": "code",
   "execution_count": null,
   "id": "42d6d931",
   "metadata": {},
   "outputs": [],
   "source": [
    "visible = np.zeros_like(m[1:-1, 1:-1])\n",
    "\n",
    "# check every side\n",
    "for _ in range(4):\n",
    "    m, visible = np.rot90(m), np.rot90(visible)\n",
    "    \n",
    "    m_max = np.maximum.accumulate(m, axis=0) \n",
    "    visible_from_side = (m_max[1:, :] > m_max[:-1, :])[:-1, 1:-1]    \n",
    "    visible = np.logical_or(visible, visible_from_side)"
   ]
  },
  {
   "cell_type": "code",
   "execution_count": null,
   "id": "7808527d",
   "metadata": {},
   "outputs": [
    {
     "name": "stdout",
     "output_type": "stream",
     "text": [
      "Part 1: 21\n"
     ]
    }
   ],
   "source": [
    "n_rows, n_cols = m.shape\n",
    "n_edge = 4*n_rows - 4\n",
    "\n",
    "part1 = n_edge + visible.sum()\n",
    "\n",
    "print(\"Part 1:\", part1)"
   ]
  },
  {
   "cell_type": "code",
   "execution_count": null,
   "id": "25325cfe",
   "metadata": {},
   "outputs": [],
   "source": [
    "if not check_example:\n",
    "    aocd.submit(part1, part=1, day=day, year=year)"
   ]
  },
  {
   "cell_type": "markdown",
   "id": "26167a14",
   "metadata": {},
   "source": [
    "## Part 2 \n",
    "\n",
    "Consider each tree on your map. What is the highest scenic score possible for any tree?"
   ]
  },
  {
   "cell_type": "code",
   "execution_count": null,
   "id": "1e1c6425",
   "metadata": {},
   "outputs": [],
   "source": [
    "n_rows, n_cols = m.shape\n",
    "scenic_score = np.ones_like(m)\n",
    "\n",
    "# compute scenic score for each side\n",
    "for _ in range(4):\n",
    "    m, scenic_score = np.rot90(m), np.rot90(scenic_score)\n",
    "    \n",
    "    scenic_side = np.ones_like(m)\n",
    "    for i in range(n_rows):\n",
    "        m_max = np.maximum.accumulate(m[:i,:][::-1], axis=0)[::-1] \n",
    "        scenic_side[i] = np.clip((m[i, :] > m_max).sum(axis=0) + 1, 1, i)\n",
    "\n",
    "    scenic_score *= scenic_side"
   ]
  },
  {
   "cell_type": "code",
   "execution_count": null,
   "id": "f5a66526",
   "metadata": {},
   "outputs": [
    {
     "name": "stdout",
     "output_type": "stream",
     "text": [
      "Part 2: 8\n"
     ]
    }
   ],
   "source": [
    "part2 = scenic_score.max()\n",
    "\n",
    "print(\"Part 2:\", part2)"
   ]
  },
  {
   "cell_type": "code",
   "execution_count": null,
   "id": "01c9564e",
   "metadata": {},
   "outputs": [],
   "source": [
    "if not check_example:\n",
    "    aocd.submit(part2, part=2, day=day, year=year)"
   ]
  }
 ],
 "metadata": {
  "kernelspec": {
   "display_name": "Python 3",
   "language": "python",
   "name": "python3"
  }
 },
 "nbformat": 4,
 "nbformat_minor": 5
}
