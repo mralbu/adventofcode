{
 "cells": [
  {
   "cell_type": "markdown",
   "id": "5a05c66b",
   "metadata": {},
   "source": [
    "# Day 03"
   ]
  },
  {
   "cell_type": "markdown",
   "id": "c2a721c1",
   "metadata": {},
   "source": [
    "https://adventofcode.com/2022/day/3"
   ]
  },
  {
   "cell_type": "code",
   "execution_count": null,
   "id": "83f7d112",
   "metadata": {},
   "outputs": [],
   "source": [
    "import aocd\n",
    "\n",
    "day, year = 3, 2022"
   ]
  },
  {
   "cell_type": "markdown",
   "id": "f4c10cf8",
   "metadata": {},
   "source": [
    "## Input"
   ]
  },
  {
   "cell_type": "code",
   "execution_count": null,
   "id": "b77b7b57",
   "metadata": {},
   "outputs": [],
   "source": [
    "check_example = False\n",
    "example = \"\"\"vJrwpWtwJgWrhcsFMMfFFhFp\n",
    "jqHRNqRjqzjGDLGLrsFMfFZSrLrFZsSL\n",
    "PmmdzqPrVvPwwTWBwg\n",
    "wMqvLMZHhHMvwLHjbvcjnnSBnvTQFn\n",
    "ttgJtRGJQctTZtZT\n",
    "CrZsJsPPZsGzwwsLwLmpwMDw\"\"\""
   ]
  },
  {
   "cell_type": "code",
   "execution_count": null,
   "id": "bcad301c",
   "metadata": {},
   "outputs": [],
   "source": [
    "data =  example if check_example else aocd.get_data(day=day, year=year)\n",
    "\n",
    "rucksacks = data.splitlines()"
   ]
  },
  {
   "cell_type": "markdown",
   "id": "8169785c",
   "metadata": {},
   "source": [
    "## Part 1\n",
    "\n",
    "Find the item type that appears in both compartments of each rucksack. What is the sum of the priorities of those item types?"
   ]
  },
  {
   "cell_type": "code",
   "execution_count": null,
   "id": "a0b85407",
   "metadata": {},
   "outputs": [
    {
     "name": "stdout",
     "output_type": "stream",
     "text": [
      "Part 1: 7826\n"
     ]
    }
   ],
   "source": [
    "import string\n",
    "\n",
    "priorities = {l: p for p, l in enumerate(string.ascii_lowercase + string.ascii_uppercase, start=1)}\n",
    "common_items = [set(l[:len(l)//2]) & set(l[(len(l)//2):]) for l in rucksacks]\n",
    "\n",
    "part1 = sum(map(lambda x: priorities[x.pop()], common_items))\n",
    "\n",
    "print(\"Part 1:\", part1)"
   ]
  },
  {
   "cell_type": "code",
   "execution_count": null,
   "id": "a1db010f",
   "metadata": {},
   "outputs": [
    {
     "name": "stdout",
     "output_type": "stream",
     "text": [
      "Part a already solved with same answer: 7826\n"
     ]
    }
   ],
   "source": [
    "aocd.submit(part1, part=1, day=day, year=year)"
   ]
  },
  {
   "cell_type": "markdown",
   "id": "4f4e9d67",
   "metadata": {},
   "source": [
    "## Part 2 \n",
    "\n",
    "Find the item type that corresponds to the badges of each three-Elf group. What is the sum of the priorities of those item types?"
   ]
  },
  {
   "cell_type": "code",
   "execution_count": null,
   "id": "a91d07f1",
   "metadata": {},
   "outputs": [
    {
     "name": "stdout",
     "output_type": "stream",
     "text": [
      "Part 2: 2577\n"
     ]
    }
   ],
   "source": [
    "from functools import reduce\n",
    "\n",
    "n = 3\n",
    "common_items = [reduce(set.intersection, (set(rucksacks[i+j]) for j in range(n)))   for i in range(0, len(rucksacks), n)]\n",
    "\n",
    "part2 = sum(map(lambda x: priorities[x.pop()], common_items))\n",
    "\n",
    "print(\"Part 2:\", part2)"
   ]
  },
  {
   "cell_type": "code",
   "execution_count": null,
   "id": "e2d615fd",
   "metadata": {},
   "outputs": [
    {
     "name": "stdout",
     "output_type": "stream",
     "text": [
      "Part b already solved with same answer: 2577\n"
     ]
    }
   ],
   "source": [
    "aocd.submit(part2, part=2, day=day, year=year)"
   ]
  }
 ],
 "metadata": {
  "kernelspec": {
   "display_name": "Python 3",
   "language": "python",
   "name": "python3"
  }
 },
 "nbformat": 4,
 "nbformat_minor": 5
}
