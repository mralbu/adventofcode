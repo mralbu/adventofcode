{
 "cells": [
  {
   "cell_type": "markdown",
   "id": "c879c5a7",
   "metadata": {},
   "source": [
    "# Day 09"
   ]
  },
  {
   "cell_type": "markdown",
   "id": "28687b8b",
   "metadata": {},
   "source": [
    "https://adventofcode.com/2022/day/9"
   ]
  },
  {
   "cell_type": "code",
   "execution_count": null,
   "id": "fcbd8629",
   "metadata": {},
   "outputs": [],
   "source": [
    "import aocd\n",
    "\n",
    "day, year = 9, 2022"
   ]
  },
  {
   "cell_type": "markdown",
   "id": "e1596b21",
   "metadata": {},
   "source": [
    "## Input"
   ]
  },
  {
   "cell_type": "code",
   "execution_count": null,
   "id": "8d1e8fb6",
   "metadata": {},
   "outputs": [],
   "source": [
    "check_example = True\n",
    "example = \"\"\"R 4\n",
    "U 4\n",
    "L 3\n",
    "D 1\n",
    "R 4\n",
    "D 1\n",
    "L 5\n",
    "R 2\"\"\"\n",
    "\n",
    "data = example if check_example else aocd.get_data(day=day, year=year)"
   ]
  },
  {
   "cell_type": "code",
   "execution_count": null,
   "id": "5e097b03",
   "metadata": {},
   "outputs": [],
   "source": [
    "cmds = data.splitlines()"
   ]
  },
  {
   "cell_type": "markdown",
   "id": "5cd6ad86",
   "metadata": {},
   "source": [
    "## Part 1\n",
    "\n",
    "Simulate your complete hypothetical series of motions. How many positions does the tail of the rope visit at least once?"
   ]
  },
  {
   "cell_type": "code",
   "execution_count": null,
   "id": "b786a9e4",
   "metadata": {},
   "outputs": [],
   "source": [
    "from dataclasses import dataclass\n",
    "import numpy as np\n",
    "\n",
    "@dataclass(frozen=True)\n",
    "class Head:\n",
    "    x: int = 0\n",
    "    y: int = 0\n",
    "\n",
    "    def move(self, d: str):\n",
    "        if d == 'R': return Head(self.x + 1, self.y)\n",
    "        if d == 'L': return Head(self.x - 1, self.y)\n",
    "        if d == 'U': return Head(self.x, self.y + 1)\n",
    "        if d == 'D': return Head(self.x, self.y - 1)\n",
    "        \n",
    "@dataclass(frozen=True)\n",
    "class Tail:\n",
    "    x: int = 0\n",
    "    y: int = 0\n",
    "        \n",
    "    def move(self, h: Head):\n",
    "        if abs(self.y - h.y) > 1 or abs(self.x - h.x) > 1:            \n",
    "            return Tail(self.x - np.clip(self.x - h.x, -1, 1), \n",
    "                        self.y - np.clip(self.y - h.y, -1, 1))\n",
    "        return self"
   ]
  },
  {
   "cell_type": "code",
   "execution_count": null,
   "id": "0e7cb6f3",
   "metadata": {},
   "outputs": [],
   "source": [
    "H = Head()\n",
    "T = Tail()\n",
    "\n",
    "tail_positions = set()\n",
    "for cmd in cmds:\n",
    "    d, n = cmd.split()\n",
    "    \n",
    "    for _ in range(int(n)):\n",
    "        H = H.move(d)\n",
    "        T = T.move(H)\n",
    "        tail_positions.add(T)"
   ]
  },
  {
   "cell_type": "code",
   "execution_count": null,
   "id": "bf3c5d63",
   "metadata": {},
   "outputs": [
    {
     "name": "stdout",
     "output_type": "stream",
     "text": [
      "Part 1: 13\n"
     ]
    }
   ],
   "source": [
    "part1 = len(tail_positions)\n",
    "\n",
    "print(\"Part 1:\", part1)"
   ]
  },
  {
   "cell_type": "code",
   "execution_count": null,
   "id": "afbbf176",
   "metadata": {},
   "outputs": [],
   "source": [
    "if not check_example:\n",
    "    aocd.submit(part1, part=1, day=day, year=year)"
   ]
  },
  {
   "cell_type": "markdown",
   "id": "63afbab5",
   "metadata": {},
   "source": [
    "## Part 2 \n",
    "\n",
    "How many positions does the tail of the rope visit at least once?"
   ]
  },
  {
   "cell_type": "code",
   "execution_count": null,
   "id": "198304c0",
   "metadata": {},
   "outputs": [],
   "source": [
    "H = Head()\n",
    "tails = [Tail() for n in range(9)]\n",
    "\n",
    "tail_positions = set()\n",
    "for cmd in cmds:\n",
    "    d, n = cmd.split()\n",
    "    \n",
    "    for _ in range(int(n)):\n",
    "        H = H.move(d)\n",
    "        tails[0] = tails[0].move(H)\n",
    "        for i, T in enumerate(tails[1:], start=1):\n",
    "            tails[i] = T.move(tails[i-1])\n",
    "        tail_positions.add(tails[-1])"
   ]
  },
  {
   "cell_type": "code",
   "execution_count": null,
   "id": "ea9df275",
   "metadata": {},
   "outputs": [
    {
     "name": "stdout",
     "output_type": "stream",
     "text": [
      "Part 2: 1\n"
     ]
    }
   ],
   "source": [
    "part2 = len(tail_positions)\n",
    "\n",
    "print(\"Part 2:\", part2)"
   ]
  },
  {
   "cell_type": "code",
   "execution_count": null,
   "id": "17095923",
   "metadata": {},
   "outputs": [],
   "source": [
    "if not check_example:\n",
    "    aocd.submit(part2, part=2, day=day, year=year)"
   ]
  }
 ],
 "metadata": {
  "kernelspec": {
   "display_name": "Python 3",
   "language": "python",
   "name": "python3"
  }
 },
 "nbformat": 4,
 "nbformat_minor": 5
}
