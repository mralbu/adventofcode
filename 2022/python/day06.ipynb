{
 "cells": [
  {
   "cell_type": "markdown",
   "id": "8c9597e9",
   "metadata": {},
   "source": [
    "# Day 06"
   ]
  },
  {
   "cell_type": "markdown",
   "id": "d68b122a",
   "metadata": {},
   "source": [
    "https://adventofcode.com/2022/day/6"
   ]
  },
  {
   "cell_type": "code",
   "execution_count": null,
   "id": "2d70347e",
   "metadata": {},
   "outputs": [],
   "source": [
    "import aocd\n",
    "\n",
    "day, year = 6, 2022"
   ]
  },
  {
   "cell_type": "markdown",
   "id": "6d03648a",
   "metadata": {},
   "source": [
    "## Input"
   ]
  },
  {
   "cell_type": "code",
   "execution_count": null,
   "id": "4a3055e7",
   "metadata": {},
   "outputs": [],
   "source": [
    "check_example = True\n",
    "examples = [\"mjqjpqmgbljsphdztnvjfqwrcgsmlb\",\n",
    "            \"bvwbjplbgvbhsrlpgdmjqwftvncz\",\n",
    "            \"nppdvjthqldpwncqszvftbrmjlhg\",\n",
    "            \"nznrnfrfntjfmvfwmzdfjlvtqnbhcprsg\",\n",
    "            \"zcfzfwzzqfrljwzlrfnpqdbhtmscgvjw\"]\n",
    "example_idx = 0\n",
    "\n",
    "data = examples[example_idx] if check_example else aocd.get_data(day=day, year=year)"
   ]
  },
  {
   "cell_type": "markdown",
   "id": "3e04cfd2",
   "metadata": {},
   "source": [
    "## Part 1\n",
    "\n",
    "How many characters need to be processed before the first start-of-packet marker is detected?"
   ]
  },
  {
   "cell_type": "code",
   "execution_count": null,
   "id": "558102ba",
   "metadata": {},
   "outputs": [],
   "source": [
    "def start_of_packet(data):\n",
    "    for i, _ in enumerate(data):\n",
    "        if len(set(data[i:i+4])) == 4:\n",
    "            return i+4"
   ]
  },
  {
   "cell_type": "code",
   "execution_count": null,
   "id": "f205bb6c",
   "metadata": {},
   "outputs": [
    {
     "name": "stdout",
     "output_type": "stream",
     "text": [
      "Part 1: 7\n"
     ]
    }
   ],
   "source": [
    "part1 = start_of_packet(data)\n",
    "\n",
    "print(\"Part 1:\", part1)"
   ]
  },
  {
   "cell_type": "code",
   "execution_count": null,
   "id": "84de3a62",
   "metadata": {},
   "outputs": [],
   "source": [
    "if not check_example:\n",
    "    aocd.submit(part1, part=1, day=day, year=year)"
   ]
  },
  {
   "cell_type": "markdown",
   "id": "64ec76a5",
   "metadata": {},
   "source": [
    "## Part 2 \n",
    "\n",
    "How many characters need to be processed before the first start-of-message marker is detected?"
   ]
  },
  {
   "cell_type": "code",
   "execution_count": null,
   "id": "c1d5e563",
   "metadata": {},
   "outputs": [],
   "source": [
    "def start_of_message(data):\n",
    "    for i, _ in enumerate(data):\n",
    "        if len(set(data[i:i+14])) == 14:\n",
    "            return i+14"
   ]
  },
  {
   "cell_type": "code",
   "execution_count": null,
   "id": "ec19dbfc",
   "metadata": {},
   "outputs": [
    {
     "name": "stdout",
     "output_type": "stream",
     "text": [
      "Part 2: 19\n"
     ]
    }
   ],
   "source": [
    "part2 = start_of_message(data)\n",
    "\n",
    "print(\"Part 2:\", part2)"
   ]
  },
  {
   "cell_type": "code",
   "execution_count": null,
   "id": "421e4e3a",
   "metadata": {},
   "outputs": [],
   "source": [
    "if not check_example:\n",
    "    aocd.submit(part2, part=2, day=day, year=year)"
   ]
  }
 ],
 "metadata": {
  "kernelspec": {
   "display_name": "Python 3",
   "language": "python",
   "name": "python3"
  }
 },
 "nbformat": 4,
 "nbformat_minor": 5
}
