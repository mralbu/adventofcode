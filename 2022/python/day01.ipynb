{
 "cells": [
  {
   "cell_type": "markdown",
   "id": "d5b3d899",
   "metadata": {},
   "source": [
    "# Day 01"
   ]
  },
  {
   "cell_type": "markdown",
   "id": "32d60b2e",
   "metadata": {},
   "source": [
    "https://adventofcode.com/2022/day/1"
   ]
  },
  {
   "cell_type": "code",
   "execution_count": null,
   "id": "0bd9aec5",
   "metadata": {},
   "outputs": [],
   "source": [
    "import aocd\n",
    "\n",
    "day, year = 1, 2022"
   ]
  },
  {
   "cell_type": "markdown",
   "id": "4981a376",
   "metadata": {},
   "source": [
    "## Input"
   ]
  },
  {
   "cell_type": "code",
   "execution_count": null,
   "id": "eaf3c801",
   "metadata": {},
   "outputs": [],
   "source": [
    "calories = [\n",
    "    [int(i) for i in block.split()] for block in aocd.get_data(day=day, year=year).split('\\n\\n')\n",
    "]"
   ]
  },
  {
   "cell_type": "markdown",
   "id": "d9aa31ef",
   "metadata": {},
   "source": [
    "## Part 1\n",
    "\n",
    "Find the Elf carrying the most Calories. How many total Calories is that Elf carrying?"
   ]
  },
  {
   "cell_type": "code",
   "execution_count": null,
   "id": "72cdbe14",
   "metadata": {},
   "outputs": [
    {
     "name": "stdout",
     "output_type": "stream",
     "text": [
      "Part 1: 69289\n"
     ]
    }
   ],
   "source": [
    "part1 = max(sum(elf) for elf in calories)\n",
    "\n",
    "print(\"Part 1:\", part1)"
   ]
  },
  {
   "cell_type": "code",
   "execution_count": null,
   "id": "12dc45a4",
   "metadata": {},
   "outputs": [
    {
     "name": "stdout",
     "output_type": "stream",
     "text": [
      "Part a already solved with same answer: 69289\n"
     ]
    }
   ],
   "source": [
    "aocd.submit(part1, part=1, day=day, year=year)"
   ]
  },
  {
   "cell_type": "markdown",
   "id": "81bc5458",
   "metadata": {},
   "source": [
    "## Part 2 \n",
    "\n",
    "Find the top three Elves carrying the most Calories. How many Calories are those Elves carrying in total?"
   ]
  },
  {
   "cell_type": "code",
   "execution_count": null,
   "id": "cdb9626e",
   "metadata": {},
   "outputs": [
    {
     "name": "stdout",
     "output_type": "stream",
     "text": [
      "Part 2: 205615\n"
     ]
    }
   ],
   "source": [
    "import heapq\n",
    "\n",
    "part2= sum(heapq.nlargest(3, (sum(elf) for elf in calories)))\n",
    "\n",
    "print(\"Part 2:\", part2)"
   ]
  },
  {
   "cell_type": "code",
   "execution_count": null,
   "id": "8c883783",
   "metadata": {},
   "outputs": [
    {
     "name": "stdout",
     "output_type": "stream",
     "text": [
      "Part b already solved with same answer: 205615\n"
     ]
    }
   ],
   "source": [
    "aocd.submit(part2, part=2, day=day, year=year)"
   ]
  },
  {
   "cell_type": "code",
   "execution_count": null,
   "id": "204cc6b2",
   "metadata": {},
   "outputs": [
    {
     "name": "stdout",
     "output_type": "stream",
     "text": [
      "69.2 µs ± 3.22 µs per loop (mean ± std. dev. of 7 runs, 10000 loops each)\n"
     ]
    }
   ],
   "source": [
    "%%timeit\n",
    "\n",
    "sum(sorted((sum(elf) for elf in calories), reverse=True)[:3])"
   ]
  },
  {
   "cell_type": "code",
   "execution_count": null,
   "id": "3f01eef7",
   "metadata": {},
   "outputs": [
    {
     "name": "stdout",
     "output_type": "stream",
     "text": [
      "67 µs ± 5.48 µs per loop (mean ± std. dev. of 7 runs, 10000 loops each)\n"
     ]
    }
   ],
   "source": [
    "%%timeit\n",
    "\n",
    "sum(heapq.nlargest(3, (sum(elf) for elf in calories)))"
   ]
  }
 ],
 "metadata": {
  "kernelspec": {
   "display_name": "Python 3",
   "language": "python",
   "name": "python3"
  }
 },
 "nbformat": 4,
 "nbformat_minor": 5
}
