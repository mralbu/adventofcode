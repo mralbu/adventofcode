{
 "cells": [
  {
   "cell_type": "raw",
   "metadata": {},
   "source": [
    "---\n",
    "title: \"Advent of Code\"\n",
    "execute:\n",
    "  echo: false\n",
    "format: gfm\n",
    "---"
   ]
  },
  {
   "attachments": {},
   "cell_type": "markdown",
   "metadata": {},
   "source": [
    "# AdventOfCode\n",
    "\n",
    "[AdventOfCode](https://adventofcode.com/) programming puzzles.\n"
   ]
  },
  {
   "cell_type": "code",
   "execution_count": 39,
   "metadata": {},
   "outputs": [
    {
     "name": "stdout",
     "output_type": "stream",
     "text": [
      "[2020](https://github.com/mralbu/adventofcode/tree/main/2020)\n",
      "  - [javascript](https://github.com/mralbu/adventofcode/tree/main/2020/javascript) \\[1-3\\]\n",
      "  - [julia](https://github.com/mralbu/adventofcode/tree/main/2020/julia) \\[1-4\\]\n",
      "[2021](https://github.com/mralbu/adventofcode/tree/main/2021)\n",
      "  - [javascript](https://github.com/mralbu/adventofcode/tree/main/2021/javascript) \\[1-7\\]\n",
      "  - [julia](https://github.com/mralbu/adventofcode/tree/main/2021/julia) \\[1-15\\]\n",
      "[2022](https://github.com/mralbu/adventofcode/tree/main/2022)\n",
      "  - [python](https://github.com/mralbu/adventofcode/tree/main/2022/python) \\[1-11\\]\n",
      "  - [rust](https://github.com/mralbu/adventofcode/tree/main/2022/rust) \\[1-5\\]\n"
     ]
    }
   ],
   "source": [
    "from pathlib import Path\n",
    "import re\n",
    "for year in Path().glob('./[0-9]*'):\n",
    "    print(f'[{year.name}](https://github.com/mralbu/adventofcode/tree/main/{year.name})', end=':')\n",
    "    for lang in year.glob('*'):\n",
    "        days = [re.findall(flags=re.IGNORECASE, pattern='day.?([\\d]{2,2})', string=day.name) for day in lang.glob('**/*[0-9]*')]\n",
    "        days = [int(day[0]) for day in days if day]\n",
    "        print(f' [{lang.name}](https://github.com/mralbu/adventofcode/tree/main/{year.name}/{lang.name}) \\({min(days)}-{max(days)}\\)')\n",
    "    print('<br><br>')"
   ]
  },
  {
   "cell_type": "code",
   "execution_count": null,
   "metadata": {},
   "outputs": [],
   "source": [
    "!quarto render README.ipynb -o README.md"
   ]
  }
 ],
 "metadata": {
  "kernelspec": {
   "display_name": "Python 3",
   "language": "python",
   "name": "python3"
  },
  "language_info": {
   "codemirror_mode": {
    "name": "ipython",
    "version": 3
   },
   "file_extension": ".py",
   "mimetype": "text/x-python",
   "name": "python",
   "nbconvert_exporter": "python",
   "pygments_lexer": "ipython3",
   "version": "3.8.10 (default, Jun 22 2022, 20:18:18) \n[GCC 9.4.0]"
  },
  "orig_nbformat": 4,
  "vscode": {
   "interpreter": {
    "hash": "916dbcbb3f70747c44a77c7bcd40155683ae19c65e1c03b4aa3499c5328201f1"
   }
  }
 },
 "nbformat": 4,
 "nbformat_minor": 2
}
